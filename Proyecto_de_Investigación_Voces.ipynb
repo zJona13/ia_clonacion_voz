{
  "nbformat": 4,
  "nbformat_minor": 0,
  "metadata": {
    "colab": {
      "provenance": [],
      "include_colab_link": true
    },
    "kernelspec": {
      "name": "python3",
      "display_name": "Python 3"
    },
    "language_info": {
      "name": "python"
    }
  },
  "cells": [
    {
      "cell_type": "markdown",
      "metadata": {
        "id": "view-in-github",
        "colab_type": "text"
      },
      "source": [
        "<a href=\"https://colab.research.google.com/github/zJona13/ia_clonacion_voz/blob/main/Proyecto_de_Investigaci%C3%B3n_Voces.ipynb\" target=\"_parent\"><img src=\"https://colab.research.google.com/assets/colab-badge.svg\" alt=\"Open In Colab\"/></a>"
      ]
    },
    {
      "cell_type": "code",
      "source": [
        "!pip install TTS\n",
        "!git clone https://github.com/coqui-ai/TTS\n",
        "%cd TTS\n",
        "!pip install -r requirements.txt\n",
        "!python setup.py install"
      ],
      "metadata": {
        "id": "8RTewg8SpvZ8"
      },
      "execution_count": null,
      "outputs": []
    },
    {
      "cell_type": "code",
      "execution_count": null,
      "metadata": {
        "id": "K6_ZnVfwpuzX"
      },
      "outputs": [],
      "source": [
        "!pip install gradio torch\n",
        "\n",
        "import gradio as gr\n",
        "import torch\n",
        "from TTS.api import TTS"
      ]
    },
    {
      "cell_type": "code",
      "source": [
        "# Inicializar modelo de TTS\n",
        "device = \"cpu\"\n",
        "tts1 = TTS(\"tts_models/multilingual/multi-dataset/xtts_v2\", progress_bar=True)"
      ],
      "metadata": {
        "id": "bdVbkyfyttsO"
      },
      "execution_count": null,
      "outputs": []
    },
    {
      "cell_type": "code",
      "source": [
        "# Función para generar el audio\n",
        "def generate_audio(text, audio_file):\n",
        "    try:\n",
        "        output_path = \"output.wav\"\n",
        "        tts1.tts_to_file(text, speaker_wav=audio_file, language=\"es\", file_path=output_path)\n",
        "        return output_path\n",
        "    except Exception as e:\n",
        "        return str(e)"
      ],
      "metadata": {
        "id": "v-Jcmy1du4P3"
      },
      "execution_count": null,
      "outputs": []
    },
    {
      "cell_type": "code",
      "source": [
        "# Interfaz de Gradio\n",
        "iface = gr.Interface(\n",
        "    fn=generate_audio,\n",
        "    inputs=[\n",
        "        gr.Textbox(label=\"Ingresar texto\"),\n",
        "        gr.Audio(label=\"Archivo de Voz\", type=\"filepath\")\n",
        "    ],\n",
        "    outputs=gr.Audio(label=\"Audio Generado\"),\n",
        "    #outputs=gr.File(label=\"Descargar Audio Generado\"),\n",
        "    title=\"Proyecto Investigación - Generador de Voces\",\n",
        "    description=\"Sube un archivo de voz y proporciona un texto para generar el audio\"\n",
        ")\n",
        "\n",
        "# Ejecutar interfaz\n",
        "iface.launch()"
      ],
      "metadata": {
        "id": "12eWb-Kau4Fl"
      },
      "execution_count": null,
      "outputs": []
    }
  ]
}
